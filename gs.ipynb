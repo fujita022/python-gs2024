{
 "cells": [
  {
   "cell_type": "code",
   "execution_count": 58,
   "metadata": {},
   "outputs": [
    {
     "name": "stdout",
     "output_type": "stream",
     "text": [
      "Olá! Você ja conhece a Economia Azul e sua importância?\n",
      "Se sim digite 1, caso contrário digite 2.\n",
      "Que bom que você já conhece sobre a Economia Azul e está ciente sobre a importância do oceano no nosso dia a dia!\n",
      "Que tal você jogar um caça-palavras comigo agora e depois me dizer o que você achou no jogo? \n",
      "Abra esse link e vamos ver quem acha mais continentes e oceanos! \n",
      "https://wordwall.net/pt/resource/16466998/continentes-e-oceanos\n",
      "Caso não tenha achado todos tudo bem! Basta preencher em branco!\n",
      "Parabéns!Você achou 11/11\n",
      "['d', 'f', 'g', 'h', 'f', 'd', 'f', 'g', 'd', 'f', 'd']\n",
      "None\n"
     ]
    }
   ],
   "source": [
    "print('Olá! Você ja conhece a Economia Azul e sua importância?\\nSe sim digite 1, caso contrário digite 2.')\n",
    "user = None\n",
    "while user != '1' or user != '2':\n",
    "    user = int(input('Digite 1 ou 2.'))\n",
    "    if user == 1:\n",
    "      print(\"Que bom que você já conhece sobre a Economia Azul e está ciente sobre a importância do oceano no nosso dia a dia!\")\n",
    "      print('Que tal você jogar um caça-palavras comigo agora e depois me dizer o que você achou no jogo? \\nAbra esse link e vamos ver quem acha mais continentes e oceanos! \\nhttps://wordwall.net/pt/resource/16466998/continentes-e-oceanos')\n",
    "      break\n",
    "    elif user == 2:\n",
    "      print(\"Puxa! Vou te apresentar então sobre o que é a Economia Azul!\")\n",
    "      \n",
    "      print(\"A Economia Azul busca assegurar que as atividades humanas nos oceanos sejam ecologicamente responsáveis, socialmente inclusivas e economicamente viáveis a longo prazo. Isso inclui a adoção de práticas de gestão ambiental, a utilização de tecnologias inovadoras e a colaboração entre governos, empresas e comunidades locais. Atualmente, os oceanos enfrentam desafios críticos como a destruição de habitats, poluição e mudanças climáticas, impactando tanto os ecossistemas marinhos quanto a economia global.\\nQuer conhecer sobre a O20? Caso afirmativo digite 1, caso negativo digite 2.\")\n",
    "      user = None\n",
    "      while user != '1' or user != '2':\n",
    "        user = int(input('Digite 1 ou 2.'))\n",
    "        if user == 1:\n",
    "          print(\"O O20, que teve seu embrião nos últimos dois ciclos do G20, na Indonésia e na Índia, terá um papel importante em dar voz a sociedade civil, considerando organizações não governamentais, iniciativa privada, povos indígenas, comunidades tradicionais e cientistas. O grupo fortalece e consolida a presença do oceano no G20, ao integrar os países que antecederam e que sucederão o Brasil em sua presidência, e os Grupos de Trabalho das Trilhas de Sherpas e de Finanças.\\n \")\n",
    "          print('A criação do Oceans20 pela Presidência Brasileira no G20 é um marco histórico de reconhecimento do papel central do oceano nas agendas globais de clima, energia e meio ambiente e que, apesar de ser um oceano global e interligado, é plural em suas características.\\n')\n",
    "          print('A agenda do oceano é um dos quatro pilares do Grupo de Trabalho sobre Sustentabilidade Climática e Ambiental, coordenado pelo Ministério do Meio Ambiente, e permeia outros grupos de trabalho, dada a característica transversal do tema. O Oceans 20 é coordenado pela Cátedra Unesco para a Sustentabilidade do Oceano da Universidade de São Paulo, em colaboração com o Fórum Econômico Mundial, o Pacto Global da ONU – Rede Brasil e Ocean Stewardship Coalition -, o Fundo Brasileiro para a Biodiversidade (FUNBIO) e o Instituto Nacional de Pesquisas Oceânicas (INPO).\\n\\n\\n')\n",
    "          print('Que tal você jogar um caça-palavras comigo agora e depois me dizer o que você achou no jogo? \\nAbra esse link e vamos ver quem acha mais continentes e oceanos! \\nhttps://wordwall.net/pt/resource/16466998/continentes-e-oceanos')\n",
    "          break\n",
    "else:\n",
    "  print('Digite um número correspondente!')\n",
    "\n",
    "\n",
    "user_lista = []\n",
    "global_solution = ['Oceania','Atlântico','Índico','Antártica','América']\n",
    "\n",
    "print('Caso não tenha achado todos tudo bem! Basta preencher em branco!')\n",
    "\n",
    "def conferir():\n",
    "  for k in range(11):\n",
    "    user_lista.append(input('Digite os continentes ou oceanos encontrados!'))\n",
    "  print(f'Parabéns!Você achou {len(user_lista)}/11')\n",
    "  print(user_lista)\n",
    "print(conferir())"
   ]
  }
 ],
 "metadata": {
  "kernelspec": {
   "display_name": "Python 3",
   "language": "python",
   "name": "python3"
  },
  "language_info": {
   "codemirror_mode": {
    "name": "ipython",
    "version": 3
   },
   "file_extension": ".py",
   "mimetype": "text/x-python",
   "name": "python",
   "nbconvert_exporter": "python",
   "pygments_lexer": "ipython3",
   "version": "3.12.1"
  }
 },
 "nbformat": 4,
 "nbformat_minor": 2
}
