{
 "cells": [
  {
   "cell_type": "code",
   "execution_count": 5,
   "metadata": {},
   "outputs": [
    {
     "name": "stdout",
     "output_type": "stream",
     "text": [
      "Olá Ericl! Você ja conhece a Economia Azul e sua importância?\n",
      "Se sim digite 1, caso contrário digite 2.\n"
     ]
    },
    {
     "ename": "ValueError",
     "evalue": "invalid literal for int() with base 10: ''",
     "output_type": "error",
     "traceback": [
      "\u001b[1;31m---------------------------------------------------------------------------\u001b[0m",
      "\u001b[1;31mValueError\u001b[0m                                Traceback (most recent call last)",
      "Cell \u001b[1;32mIn[5], line 6\u001b[0m\n\u001b[0;32m      4\u001b[0m user \u001b[38;5;241m=\u001b[39m \u001b[38;5;28;01mNone\u001b[39;00m\n\u001b[0;32m      5\u001b[0m \u001b[38;5;28;01mwhile\u001b[39;00m user \u001b[38;5;241m!=\u001b[39m \u001b[38;5;124m'\u001b[39m\u001b[38;5;124m1\u001b[39m\u001b[38;5;124m'\u001b[39m \u001b[38;5;129;01mor\u001b[39;00m user \u001b[38;5;241m!=\u001b[39m \u001b[38;5;124m'\u001b[39m\u001b[38;5;124m2\u001b[39m\u001b[38;5;124m'\u001b[39m:\n\u001b[1;32m----> 6\u001b[0m     user \u001b[38;5;241m=\u001b[39m \u001b[38;5;28;43mint\u001b[39;49m\u001b[43m(\u001b[49m\u001b[38;5;28;43minput\u001b[39;49m\u001b[43m(\u001b[49m\u001b[38;5;124;43m'\u001b[39;49m\u001b[38;5;124;43mDigite 1 ou 2.\u001b[39;49m\u001b[38;5;124;43m'\u001b[39;49m\u001b[43m)\u001b[49m\u001b[43m)\u001b[49m\n\u001b[0;32m      7\u001b[0m     \u001b[38;5;28;01mif\u001b[39;00m user \u001b[38;5;241m==\u001b[39m \u001b[38;5;241m1\u001b[39m:\n\u001b[0;32m      8\u001b[0m       \u001b[38;5;28mprint\u001b[39m(\u001b[38;5;124m\"\u001b[39m\u001b[38;5;124mQue bom que você já conhece sobre a Economia Azul e está ciente sobre a importância do oceano no nosso dia a dia!\u001b[39m\u001b[38;5;124m\"\u001b[39m)\n",
      "\u001b[1;31mValueError\u001b[0m: invalid literal for int() with base 10: ''"
     ]
    }
   ],
   "source": [
    "inputname = str(input('Seja bem-vindo! Qual seu nome?'))\n",
    "nome = inputname[0].upper()+inputname[1:].lower()\n",
    "print(f'Olá {nome}! Você ja conhece a Economia Azul e sua importância?\\nSe sim digite 1, caso contrário digite 2.')\n",
    "user = None\n",
    "while user != '1' or user != '2':\n",
    "    user = int(input('Digite 1 ou 2.'))\n",
    "    if user == 1:\n",
    "      print(\"Que bom que você já conhece sobre a Economia Azul e está ciente sobre a importância do oceano no nosso dia a dia!\")\n",
    "      print('Que tal você jogar um caça-palavras comigo agora e depois me dizer o que você achou no jogo? \\nAbra esse link e vamos ver quem acha mais continentes e oceanos! \\nhttps://wordwall.net/pt/resource/16466998/continentes-e-oceanos')\n",
    "      break\n",
    "    elif user == 2:\n",
    "      print(\"Puxa! Vou te apresentar então sobre o que é a Economia Azul!\")\n",
    "      \n",
    "      print(\"A Economia Azul busca assegurar que as atividades humanas nos oceanos sejam ecologicamente responsáveis, socialmente inclusivas e economicamente viáveis a longo prazo. Isso inclui a adoção de práticas de gestão ambiental, a utilização de tecnologias inovadoras e a colaboração entre governos, empresas e comunidades locais. Atualmente, os oceanos enfrentam desafios críticos como a destruição de habitats, poluição e mudanças climáticas, impactando tanto os ecossistemas marinhos quanto a economia global.\\nQuer conhecer sobre a O20? Caso afirmativo digite 1, caso negativo digite 2.\")\n",
    "      user = None\n",
    "      while user != '1' or user != '2':\n",
    "        user = int(input('Digite 1 ou 2.'))\n",
    "        if user == 1:\n",
    "          print(\"O O20, que teve seu embrião nos últimos dois ciclos do G20, na Indonésia e na Índia, terá um papel importante em dar voz a sociedade civil, considerando organizações não governamentais, iniciativa privada, povos indígenas, comunidades tradicionais e cientistas. O grupo fortalece e consolida a presença do oceano no G20, ao integrar os países que antecederam e que sucederão o Brasil em sua presidência, e os Grupos de Trabalho das Trilhas de Sherpas e de Finanças.\\n \")\n",
    "          print('A criação do Oceans20 pela Presidência Brasileira no G20 é um marco histórico de reconhecimento do papel central do oceano nas agendas globais de clima, energia e meio ambiente e que, apesar de ser um oceano global e interligado, é plural em suas características.\\n')\n",
    "          print('A agenda do oceano é um dos quatro pilares do Grupo de Trabalho sobre Sustentabilidade Climática e Ambiental, coordenado pelo Ministério do Meio Ambiente, e permeia outros grupos de trabalho, dada a característica transversal do tema. O Oceans 20 é coordenado pela Cátedra Unesco para a Sustentabilidade do Oceano da Universidade de São Paulo, em colaboração com o Fórum Econômico Mundial, o Pacto Global da ONU – Rede Brasil e Ocean Stewardship Coalition -, o Fundo Brasileiro para a Biodiversidade (FUNBIO) e o Instituto Nacional de Pesquisas Oceânicas (INPO).\\n\\n\\n')\n",
    "          print('Que tal você jogar um caça-palavras comigo agora e depois me dizer o que você achou no jogo? \\nAbra esse link e vamos ver quem acha mais continentes e oceanos! \\nhttps://wordwall.net/pt/resource/16466998/continentes-e-oceanos')\n",
    "          break\n",
    "else:\n",
    "  print('Digite um número correspondente!')\n",
    "\n",
    "\n",
    "user_lista = []\n",
    "global_solution = ['Oceania','Atlântico','Índico','Antártica','América']\n",
    "gabarito = ['Oceania','Atlântico','Índico','Antártica','América','Europa','África','Pacífico','Ásia','Antártico','Ártico']\n",
    "print('Caso não tenha achado todos tudo bem! Basta preencher em branco!')\n",
    "\n",
    "def joga():\n",
    "  for k in range(11):\n",
    "    user_lista.append(input('Digite os continentes ou oceanos encontrados!'))\n",
    "  lista_capitalizada = [s.capitalize() for s in user_lista]\n",
    "  print(f'Parabéns!Você achou {len(user_lista)}/11\\n Sua resposta: {lista_capitalizada}\\n')\n",
    "  print(f'Aqui está as que eu encontrei! {global_solution}\\nO gabarito: {gabarito}')\n",
    "  user_resp = int(input(f'Eu acertei {len(global_solution)} e você?'))\n",
    "  \n",
    "  if user_resp < 5:\n",
    "      print('Que pena! Dessa vez eu ganhei, boa sorte na próxima!')\n",
    "      jogar = input('Deseja jogar novamente? Escreva sim ou não!')\n",
    "      if jogar == 'sim':\n",
    "        print(joga())\n",
    "      else:\n",
    "       print('Até mais!')\n",
    "  else:\n",
    "    print(\"Parabéns! Você ganhou!\")\n",
    "print(joga())\n",
    "print('Obrigado pela participação!')\n"
   ]
  }
 ],
 "metadata": {
  "kernelspec": {
   "display_name": "Python 3",
   "language": "python",
   "name": "python3"
  },
  "language_info": {
   "codemirror_mode": {
    "name": "ipython",
    "version": 3
   },
   "file_extension": ".py",
   "mimetype": "text/x-python",
   "name": "python",
   "nbconvert_exporter": "python",
   "pygments_lexer": "ipython3",
   "version": "3.12.1"
  }
 },
 "nbformat": 4,
 "nbformat_minor": 2
}
